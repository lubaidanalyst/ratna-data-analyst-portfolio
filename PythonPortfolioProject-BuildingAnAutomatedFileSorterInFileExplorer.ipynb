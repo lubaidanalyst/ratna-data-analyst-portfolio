{
 "cells": [
  {
   "cell_type": "markdown",
   "id": "ecb5977c",
   "metadata": {},
   "source": [
    "## Building an Automated File Sorter in File Explorer"
   ]
  },
  {
   "cell_type": "markdown",
   "id": "5577be44",
   "metadata": {},
   "source": [
    "shutil : file explorer management"
   ]
  },
  {
   "cell_type": "code",
   "execution_count": 59,
   "id": "fd2a672f",
   "metadata": {},
   "outputs": [],
   "source": [
    "import os, shutil"
   ]
  },
  {
   "cell_type": "code",
   "execution_count": 60,
   "id": "a8cab42d",
   "metadata": {},
   "outputs": [],
   "source": [
    "path = \"C:/Users/Asus/Documents/PythonPortfolioProject/\""
   ]
  },
  {
   "cell_type": "code",
   "execution_count": 61,
   "id": "45f59753",
   "metadata": {},
   "outputs": [],
   "source": [
    "file_name = os.listdir(path)"
   ]
  },
  {
   "cell_type": "code",
   "execution_count": 62,
   "id": "2e4128a1",
   "metadata": {},
   "outputs": [],
   "source": [
    "folder_names = ['excel files', 'image files', 'text files']\n",
    "\n",
    "for loop in range(0,3):\n",
    "    if not os.path.exists(path + folder_names[loop]):\n",
    "        #print(path + folder_names[loop])\n",
    "        os.makedirs(path + folder_names[loop])\n",
    "        \n",
    "for file in file_name:\n",
    "    if ('.xls' or 'xlsx') in file and not os.path.exists(path + 'excel files/' + file):\n",
    "        shutil.move(path + file, path + 'excel files/' + file)\n",
    "    elif ('.png') in file and not os.path.exists(path + 'image files/' + file):\n",
    "        shutil.move(path + file, path + 'image files/' + file)\n",
    "    elif ('.txt') in file and not os.path.exists(path + 'text files/' + file):\n",
    "        shutil.move(path + file, path + 'text files/' + file)"
   ]
  },
  {
   "cell_type": "code",
   "execution_count": 58,
   "id": "0289ce5b",
   "metadata": {},
   "outputs": [],
   "source": []
  }
 ],
 "metadata": {
  "kernelspec": {
   "display_name": "Python 3 (ipykernel)",
   "language": "python",
   "name": "python3"
  },
  "language_info": {
   "codemirror_mode": {
    "name": "ipython",
    "version": 3
   },
   "file_extension": ".py",
   "mimetype": "text/x-python",
   "name": "python",
   "nbconvert_exporter": "python",
   "pygments_lexer": "ipython3",
   "version": "3.10.9"
  }
 },
 "nbformat": 4,
 "nbformat_minor": 5
}
